{
 "cells": [
  {
   "cell_type": "markdown",
   "metadata": {},
   "source": [
    "# Prdeicting Heart Failure Based on Clinical Data"
   ]
  },
  {
   "cell_type": "markdown",
   "metadata": {},
   "source": [
    "This is in partial fulfillment of the course Statistical Modeling and simulation (CSMODEL). "
   ]
  },
  {
   "cell_type": "markdown",
   "metadata": {},
   "source": [
    "Submitted by: \n",
    "- ANG, Charlene\n",
    "- CAI, Mark Jayson\n",
    "- SANTOS, Carlo Luis\n",
    "S15\n",
    "\n",
    "Submitted to:\n",
    "\n",
    "Mr. Thomas James Tiam-Lee \n",
    "\n",
    "September 22, 2020"
   ]
  },
  {
   "cell_type": "markdown",
   "metadata": {},
   "source": [
    "## Heart Failure Prediction"
   ]
  },
  {
   "cell_type": "markdown",
   "metadata": {},
   "source": [
    "https://www.kaggle.com/andrewmvd/heart-failure-clinical-data"
   ]
  },
  {
   "cell_type": "markdown",
   "metadata": {},
   "source": [
    "### Introduction"
   ]
  },
  {
   "cell_type": "code",
   "execution_count": null,
   "metadata": {},
   "outputs": [],
   "source": []
  },
  {
   "cell_type": "markdown",
   "metadata": {},
   "source": [
    "### Data Collection"
   ]
  },
  {
   "cell_type": "code",
   "execution_count": null,
   "metadata": {},
   "outputs": [],
   "source": []
  },
  {
   "cell_type": "markdown",
   "metadata": {},
   "source": [
    "## Exploratory Data Analysis"
   ]
  },
  {
   "cell_type": "code",
   "execution_count": null,
   "metadata": {},
   "outputs": [],
   "source": [
    "import numpy as np\n",
    "import pandas as pd\n",
    "import matplotlib.pyplot as plt\n",
    "import re \n",
    "from functools import reduce"
   ]
  },
  {
   "cell_type": "markdown",
   "metadata": {},
   "source": [
    "### Loading the Dataset "
   ]
  },
  {
   "cell_type": "code",
   "execution_count": null,
   "metadata": {},
   "outputs": [],
   "source": [
    "df = pd.read_csv(\"heart_failure_clinical_records_dataset.csv\")\n",
    "df.head()"
   ]
  },
  {
   "cell_type": "markdown",
   "metadata": {},
   "source": [
    "### Dataset Information"
   ]
  },
  {
   "cell_type": "code",
   "execution_count": null,
   "metadata": {},
   "outputs": [],
   "source": [
    "df.info()"
   ]
  },
  {
   "cell_type": "code",
   "execution_count": null,
   "metadata": {},
   "outputs": [],
   "source": [
    "df.describe()"
   ]
  },
  {
   "cell_type": "markdown",
   "metadata": {},
   "source": [
    "### Data Cleaning"
   ]
  },
  {
   "cell_type": "markdown",
   "metadata": {},
   "source": [
    "#### Duplicates"
   ]
  },
  {
   "cell_type": "code",
   "execution_count": null,
   "metadata": {},
   "outputs": [],
   "source": [
    "df.duplicated().sum()"
   ]
  },
  {
   "cell_type": "markdown",
   "metadata": {},
   "source": [
    "#### Null values"
   ]
  },
  {
   "cell_type": "code",
   "execution_count": null,
   "metadata": {},
   "outputs": [],
   "source": [
    "df.isna().sum().sort_values()"
   ]
  },
  {
   "cell_type": "markdown",
   "metadata": {},
   "source": [
    "Based on the values presented above, there are no categorical data, no duplication of observations and no nullvalues present in the dataset, thus, the researchers will no longer perform data cleaning"
   ]
  },
  {
   "cell_type": "markdown",
   "metadata": {},
   "source": [
    "### Exploratory Data Analysis Questions"
   ]
  },
  {
   "cell_type": "markdown",
   "metadata": {},
   "source": [
    "**Question#1**: What are the average values of age that are most likely to contract heart failure?"
   ]
  },
  {
   "cell_type": "markdown",
   "metadata": {},
   "source": [
    "First lets look at the age distribution of the patients"
   ]
  },
  {
   "cell_type": "code",
   "execution_count": null,
   "metadata": {},
   "outputs": [],
   "source": [
    "df.hist(\"age\", bins=30)\n",
    "plt.show()"
   ]
  },
  {
   "cell_type": "markdown",
   "metadata": {},
   "source": [
    "Let's now look at the average, median, and standard deviation age of the patients."
   ]
  },
  {
   "cell_type": "code",
   "execution_count": null,
   "metadata": {},
   "outputs": [],
   "source": [
    "df.agg({\"age\": [\"mean\", \"median\", \"std\", \"count\"]})"
   ]
  },
  {
   "cell_type": "markdown",
   "metadata": {},
   "source": [
    "**Answer#1**: 60.83 is the average age in which patients contract a heart disease. 60 is the median age. And the standard deviation is 11.89."
   ]
  },
  {
   "cell_type": "markdown",
   "metadata": {},
   "source": [
    "**Question#2**: Is Age and Sex an indicator for Death Event?"
   ]
  },
  {
   "cell_type": "markdown",
   "metadata": {},
   "source": [
    "Let's first look at the death event and the age of the patients."
   ]
  },
  {
   "cell_type": "code",
   "execution_count": null,
   "metadata": {},
   "outputs": [],
   "source": [
    "x = df.loc[df['DEATH_EVENT'] == 0, ['age']]\n",
    "y = df.loc[df['DEATH_EVENT'] == 1, ['age']]\n",
    "\n",
    "fig, ax = plt.subplots()\n",
    "x.hist(alpha=1, ax=ax, label=\"Survived\")\n",
    "y.hist(alpha=0.5, ax=ax, label=\"Died\")\n",
    "plt.xlabel('Age')\n",
    "plt.ylabel('Count')\n",
    "plt.title('Histogram of the Survival State and age of the patients')\n",
    "plt.legend(loc='upper right')\n",
    "plt.show()"
   ]
  },
  {
   "cell_type": "markdown",
   "metadata": {},
   "source": [
    "Let's now look at the death event and the sex of the patient."
   ]
  },
  {
   "cell_type": "code",
   "execution_count": null,
   "metadata": {},
   "outputs": [],
   "source": [
    "df.groupby(['DEATH_EVENT', 'sex']).size().unstack().plot(kind='bar', stacked='True')\n",
    "plt.xlabel('Deceased')\n",
    "plt.ylabel('Count')\n",
    "plt.title('Bar plot of survival status and sex of the patients')\n",
    "plt.legend([\"Male\", \"Female\"])\n",
    "plt.show()"
   ]
  },
  {
   "cell_type": "markdown",
   "metadata": {},
   "source": [
    "**Answer#2**:"
   ]
  },
  {
   "cell_type": "markdown",
   "metadata": {},
   "source": [
    "**Question#3**:What is the distribution of patients in the following clinical features of the dataset?"
   ]
  },
  {
   "cell_type": "markdown",
   "metadata": {},
   "source": [
    "Here we are going to look at the percentage of patients who have anemia, diabetes, hypertension, and those who smoke."
   ]
  },
  {
   "cell_type": "markdown",
   "metadata": {},
   "source": [
    "#### Anaemia Percentage"
   ]
  },
  {
   "cell_type": "code",
   "execution_count": null,
   "metadata": {},
   "outputs": [],
   "source": [
    "val = df['anaemia'].value_counts()\n",
    "labels = ['Not Anemic', 'Anemic']\n",
    "explode = (0.1, 0)\n",
    "slices = plt.pie(val, labels = val, explode=explode, autopct='%1.1f%%', shadow=True, startangle=90)\n",
    "plt.title('Anemic percentage')\n",
    "plt.legend(labels)\n",
    "plt.show()"
   ]
  },
  {
   "cell_type": "markdown",
   "metadata": {},
   "source": [
    "#### Diabetic Percentage"
   ]
  },
  {
   "cell_type": "code",
   "execution_count": null,
   "metadata": {},
   "outputs": [],
   "source": [
    "val = df['diabetes'].value_counts()\n",
    "labels = ['Not Diabetic', 'Diabetic']\n",
    "explode = (0.1, 0)\n",
    "slices = plt.pie(val, labels = val, explode=explode, autopct='%1.1f%%', shadow=True, startangle=90)\n",
    "plt.title('Diabetic percentage')\n",
    "plt.legend(labels)\n",
    "plt.show()"
   ]
  },
  {
   "cell_type": "markdown",
   "metadata": {},
   "source": [
    "Hypertension Percentage"
   ]
  },
  {
   "cell_type": "code",
   "execution_count": null,
   "metadata": {},
   "outputs": [],
   "source": [
    "val = df['high_blood_pressure'].value_counts()\n",
    "labels = ['Does Not Have Hypertension', 'Have Hypertension']\n",
    "explode = (0.1, 0)\n",
    "slices = plt.pie(val, labels = val, explode=explode, autopct='%1.1f%%', shadow=True, startangle=90)\n",
    "plt.title('Hypertension percentage')\n",
    "plt.legend(labels)\n",
    "plt.show()"
   ]
  },
  {
   "cell_type": "markdown",
   "metadata": {},
   "source": [
    "#### Smoking percentage"
   ]
  },
  {
   "cell_type": "code",
   "execution_count": null,
   "metadata": {},
   "outputs": [],
   "source": [
    "val = df['smoking'].value_counts()\n",
    "labels = ['Not Smoking', 'Smoking']\n",
    "explode = (0.1, 0)\n",
    "slices = plt.pie(val, labels = val, explode=explode, autopct='%1.1f%%', shadow=True, startangle=90)\n",
    "plt.title('Smoking percentage')\n",
    "plt.legend(labels)\n",
    "plt.show()"
   ]
  },
  {
   "cell_type": "markdown",
   "metadata": {},
   "source": [
    "**Answer#3**:"
   ]
  },
  {
   "cell_type": "markdown",
   "metadata": {},
   "source": [
    "**Question#4**: What is the correlation of each variable to the death event? \n",
    "\n",
    "(Note: Baka pwede na isama sa question 2)\n",
    "- Creatinine Phosphokinase\n",
    "- Ejection fraction\n",
    "- Level of serum creatinine\n",
    "- Level of serum sodium\n",
    "- Platelets in the blood"
   ]
  },
  {
   "cell_type": "markdown",
   "metadata": {},
   "source": [
    "#### Correlation of the CPK enzyme in the blood and the survival state of the patient"
   ]
  },
  {
   "cell_type": "code",
   "execution_count": null,
   "metadata": {},
   "outputs": [],
   "source": [
    "x = df.loc[df['DEATH_EVENT'] == 0, ['creatinine_phosphokinase']]\n",
    "y = df.loc[df['DEATH_EVENT'] == 1, ['creatinine_phosphokinase']]\n",
    "\n",
    "fig, ax = plt.subplots()\n",
    "x.hist(alpha=1, ax=ax, label=\"Survived\")\n",
    "y.hist(alpha=0.5, ax=ax, label=\"Died\")\n",
    "plt.xlabel('Level of the CPK enzyme in the blood')\n",
    "plt.ylabel('Count')\n",
    "plt.title('Histogram of the Survival State and the level of the CPK enzyme in the blood of the patients')\n",
    "plt.legend(loc='upper right')\n",
    "plt.show()"
   ]
  },
  {
   "cell_type": "markdown",
   "metadata": {},
   "source": [
    "Higher level of the CPK enzyme in the blood contribute to the patients' survival."
   ]
  },
  {
   "cell_type": "markdown",
   "metadata": {},
   "source": [
    "#### Correlation of the percentage of blood leaving the heart at each contraction and the survival state of the patient"
   ]
  },
  {
   "cell_type": "code",
   "execution_count": null,
   "metadata": {},
   "outputs": [],
   "source": [
    "x = df.loc[df['DEATH_EVENT'] == 0, ['ejection_fraction']]\n",
    "y = df.loc[df['DEATH_EVENT'] == 1, ['ejection_fraction']]\n",
    "\n",
    "fig, ax = plt.subplots()\n",
    "x.hist(alpha=1, ax=ax, label=\"Survived\")\n",
    "y.hist(alpha=0.5, ax=ax, label=\"Died\")\n",
    "plt.xlabel('Percentage of blood leaving the heart at each contraction')\n",
    "plt.ylabel('Count')\n",
    "plt.title('Histogram of the Survival State and the Percentage of blood leaving the heart at each contraction of the patients')\n",
    "plt.legend(loc='upper right')\n",
    "plt.show()"
   ]
  },
  {
   "cell_type": "markdown",
   "metadata": {},
   "source": [
    "Higher ejection fraction contribute to the patients' survival."
   ]
  },
  {
   "cell_type": "markdown",
   "metadata": {},
   "source": [
    "#### Correlation of the platelets in the blood and the survival state of the patient"
   ]
  },
  {
   "cell_type": "code",
   "execution_count": null,
   "metadata": {},
   "outputs": [],
   "source": [
    "x = df.loc[df['DEATH_EVENT'] == 0, ['platelets']]\n",
    "y = df.loc[df['DEATH_EVENT'] == 1, ['platelets']]\n",
    "\n",
    "fig, ax = plt.subplots()\n",
    "x.hist(alpha=1, ax=ax, label=\"Survived\")\n",
    "y.hist(alpha=0.5, ax=ax, label=\"Died\")\n",
    "plt.xlabel('Platelets in the blood')\n",
    "plt.ylabel('Count')\n",
    "plt.title('Histogram of the Survival State and the Platelets in the blood of the patients')\n",
    "plt.legend(loc='upper right')\n",
    "plt.show()"
   ]
  },
  {
   "cell_type": "markdown",
   "metadata": {},
   "source": [
    "Higher amount of platelets in the blood contribute to the patients' survival."
   ]
  },
  {
   "cell_type": "markdown",
   "metadata": {},
   "source": [
    "#### Correlation of the level of serum creatinine and the survival state of the patient"
   ]
  },
  {
   "cell_type": "code",
   "execution_count": null,
   "metadata": {},
   "outputs": [],
   "source": [
    "x = df.loc[df['DEATH_EVENT'] == 0, ['serum_creatinine']]\n",
    "y = df.loc[df['DEATH_EVENT'] == 1, ['serum_creatinine']]\n",
    "\n",
    "fig, ax = plt.subplots()\n",
    "x.hist(alpha=1, ax=ax, label=\"Survived\")\n",
    "y.hist(alpha=0.5, ax=ax, label=\"Died\")\n",
    "plt.xlabel('Level of serum creatinine')\n",
    "plt.ylabel('Count')\n",
    "plt.title('Histogram of the Survival State and the level of serum creatinine of the patients')\n",
    "plt.legend(loc='upper right')\n",
    "plt.show()"
   ]
  },
  {
   "cell_type": "markdown",
   "metadata": {},
   "source": [
    "Higher levels of serum creatinine contribute to the patients' survival."
   ]
  },
  {
   "cell_type": "markdown",
   "metadata": {},
   "source": [
    "#### Correlation of the level of serum sodium in the blood and the survival state of the patient"
   ]
  },
  {
   "cell_type": "code",
   "execution_count": null,
   "metadata": {},
   "outputs": [],
   "source": [
    "x = df.loc[df['DEATH_EVENT'] == 0, ['serum_sodium']]\n",
    "y = df.loc[df['DEATH_EVENT'] == 1, ['serum_sodium']]\n",
    "\n",
    "fig, ax = plt.subplots()\n",
    "x.hist(alpha=1, ax=ax, label=\"Survived\")\n",
    "y.hist(alpha=0.5, ax=ax, label=\"Died\")\n",
    "plt.xlabel('Level of serum sodium in the blood')\n",
    "plt.ylabel('Count')\n",
    "plt.title('Histogram of the Survival State and the Level of serum sodium in the blood of the patients')\n",
    "plt.legend(loc='upper right')\n",
    "plt.show()"
   ]
  },
  {
   "cell_type": "markdown",
   "metadata": {},
   "source": [
    "Here we can see that higher levels of serum sodium in the blood contribute to the patients' survival."
   ]
  },
  {
   "cell_type": "markdown",
   "metadata": {},
   "source": [
    "**Answer#4**:"
   ]
  },
  {
   "cell_type": "markdown",
   "metadata": {},
   "source": [
    "## Research Questions"
   ]
  },
  {
   "cell_type": "markdown",
   "metadata": {},
   "source": [
    "**Research Question #1** :Given the level of age, time, serum sodium, serum creatinine, and ejection fraction, what is the chance of heart failure?\n"
   ]
  },
  {
   "cell_type": "code",
   "execution_count": null,
   "metadata": {},
   "outputs": [],
   "source": []
  },
  {
   "cell_type": "markdown",
   "metadata": {},
   "source": [
    "**Research Question #2** : Find the confidence interval of the level of serum creatinine and ejection fraction for those who have heart failure death event between high blood and non high-blood?"
   ]
  },
  {
   "cell_type": "code",
   "execution_count": null,
   "metadata": {},
   "outputs": [],
   "source": []
  },
  {
   "cell_type": "markdown",
   "metadata": {},
   "source": [
    "## Insights and Conclusion"
   ]
  }
 ],
 "metadata": {
  "kernelspec": {
   "display_name": "Python 3",
   "language": "python",
   "name": "python3"
  },
  "language_info": {
   "codemirror_mode": {
    "name": "ipython",
    "version": 3
   },
   "file_extension": ".py",
   "mimetype": "text/x-python",
   "name": "python",
   "nbconvert_exporter": "python",
   "pygments_lexer": "ipython3",
   "version": "3.7.6"
  }
 },
 "nbformat": 4,
 "nbformat_minor": 4
}
