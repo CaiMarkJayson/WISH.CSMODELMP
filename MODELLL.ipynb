{
 "cells": [
  {
   "cell_type": "markdown",
   "metadata": {},
   "source": [
    "# Predicting Heart Failure Based on Clinical Data"
   ]
  },
  {
   "cell_type": "markdown",
   "metadata": {},
   "source": [
    "This is in partial fulfillment of the course Statistical Modeling and simulation (CSMODEL). "
   ]
  },
  {
   "cell_type": "markdown",
   "metadata": {},
   "source": [
    "Submitted by: \n",
    "- ANG, Charlene\n",
    "- CAI, Mark Jayson\n",
    "- SANTOS, Carlo Luis\n",
    "S15\n",
    "\n",
    "Submitted to:\n",
    "\n",
    "Mr. Thomas James Tiam-Lee \n",
    "\n",
    "September 22, 2020"
   ]
  },
  {
   "cell_type": "markdown",
   "metadata": {},
   "source": [
    "## Heart Failure Prediction"
   ]
  },
  {
   "cell_type": "markdown",
   "metadata": {},
   "source": [
    "Davide Chicco, Giuseppe Jurman: Machine learning can predict survival of patients with heart failure from serum creatinine and ejection fraction alone. BMC Medical Informatics and Decision Making 20, 16 (2020). https://www.kaggle.com/andrewmvd/heart-failure-clinical-data"
   ]
  },
  {
   "cell_type": "markdown",
   "metadata": {},
   "source": [
    "### Introduction"
   ]
  },
  {
   "cell_type": "markdown",
   "metadata": {},
   "source": [
    "Heart failure is a persistent and progressive cardiovascular condition where in the heart is unable to pump the right amount of oxygenated blood through out the body. Lifestyle and other prevailing conditions of a person can affect their risk of having heart failure. Every year, 31% of the total deaths aroud the world is caused by cardiovascular diseases. As knowledge about these conditions broaden through the years, there are are a lot of factors that can help predict the posibility of heart failure to occur. With the help of modern tools, survival rate of people with heart disease, early detection of heart diseases and deeper understanding of these cnditions can transpire that may be of great help for future generations to have a healthier lives.\n",
    "\n",
    "In this notebook, the proponents aim to predict the chance of heart failure based on clinical features, and know which factors affect the occurance of heart failure. "
   ]
  },
  {
   "cell_type": "markdown",
   "metadata": {},
   "source": [
    "### Data Collection"
   ]
  },
  {
   "cell_type": "markdown",
   "metadata": {},
   "source": [
    "The dataset was collected from 299 patients from the Faisalabad Institute of Cardiology and the Allied Hospital in Faisalabad from April to December 2015 by Jurman and Chicco. The researchers were able to identify the potential variables that may affect or cause heart failure. "
   ]
  },
  {
   "cell_type": "markdown",
   "metadata": {},
   "source": [
    "### Data Variables"
   ]
  },
  {
   "cell_type": "markdown",
   "metadata": {},
   "source": [
    "The Heart Failure Clinical Features Dataset contains 13 variables with each observation representing a patient who have medical records of heart failure. Each row of the dataset is representing an observation while each column represents each variable. \n",
    "\n",
    "Each variable and its description in the dataset is the following:\n",
    "* **age:** The age of the patient\n",
    "* **anaemia:** Whether the patient has anemia or not (1 for has anemia, 0 for not)\n",
    "* **creatinine_phosphokinase:** The amount of the CPK enzyme in the blood (measured in mcg/L)\n",
    "* **diabetes:** Whether the patient has diabetes or not (1 for has diabetes, 0 for not)\n",
    "* **ejection_fraction:** Percentage of blood that leaves the heart at each contraction\n",
    "* **high_blood_pressure:** Whether the patient has high blood pressure or not (1 for has high blood pressure, 0 for not)\n",
    "* **platelets:** Refers to the platelet count in blood (measured in kiloplatelets/mL)\n",
    "* **serum_creatinine:** Level of serum creatinine in the blood (measured in mg/dL)\n",
    "* **serum_sodium:** Level of serum sodium in the blood (measured in mEq/L)\n",
    "* **sex:** Whether a patient is male or female (1 for male, 0 for female)\n",
    "* **smoking:** Whether a patient is a smoker or not (1 for is a smoker, 0 for not)\n",
    "* **time:** Number of days for the follow-up period of the patient.\n",
    "* **DEATH_EVENT:** Whether the patient died during the follow-up period or still alive (1 for died, 0 for not)\n"
   ]
  },
  {
   "cell_type": "markdown",
   "metadata": {},
   "source": [
    "## Exploratory Data Analysis"
   ]
  },
  {
   "cell_type": "code",
   "execution_count": null,
   "metadata": {},
   "outputs": [],
   "source": [
    "import numpy as np\n",
    "import pandas as pd\n",
    "import matplotlib.pyplot as plt\n",
    "import re \n",
    "import seaborn as sns\n",
    "from functools import reduce\n",
    "from sklearn.metrics import confusion_matrix, accuracy_score\n",
    "from sklearn.linear_model import LogisticRegression\n",
    "from scipy.stats import norm\n",
    "from scipy.stats import ttest_ind"
   ]
  },
  {
   "cell_type": "markdown",
   "metadata": {},
   "source": [
    "### Loading the Dataset "
   ]
  },
  {
   "cell_type": "code",
   "execution_count": null,
   "metadata": {},
   "outputs": [],
   "source": [
    "df = pd.read_csv(\"heart_failure_clinical_records_dataset.csv\")\n",
    "df.head()"
   ]
  },
  {
   "cell_type": "markdown",
   "metadata": {},
   "source": [
    "### Dataset Information"
   ]
  },
  {
   "cell_type": "code",
   "execution_count": null,
   "metadata": {},
   "outputs": [],
   "source": [
    "df.info()"
   ]
  },
  {
   "cell_type": "code",
   "execution_count": null,
   "metadata": {},
   "outputs": [],
   "source": [
    "df.describe()"
   ]
  },
  {
   "cell_type": "markdown",
   "metadata": {},
   "source": [
    "### Data Cleaning"
   ]
  },
  {
   "cell_type": "markdown",
   "metadata": {},
   "source": [
    "#### Duplicates"
   ]
  },
  {
   "cell_type": "code",
   "execution_count": null,
   "metadata": {},
   "outputs": [],
   "source": [
    "df.duplicated().sum()"
   ]
  },
  {
   "cell_type": "markdown",
   "metadata": {},
   "source": [
    "#### Null values"
   ]
  },
  {
   "cell_type": "code",
   "execution_count": null,
   "metadata": {},
   "outputs": [],
   "source": [
    "df.isna().sum().sort_values()"
   ]
  },
  {
   "cell_type": "markdown",
   "metadata": {},
   "source": [
    "Based on the values presented above, there are no categorical data, no duplication of observations and no nullvalues present in the dataset, thus, the researchers will no longer perform data cleaning"
   ]
  },
  {
   "cell_type": "markdown",
   "metadata": {},
   "source": [
    "### Exploratory Data Analysis Questions"
   ]
  },
  {
   "cell_type": "markdown",
   "metadata": {},
   "source": [
    "**Question#1**: What are the average values of age that are most likely to contract heart failure?"
   ]
  },
  {
   "cell_type": "markdown",
   "metadata": {},
   "source": [
    "First lets look at the age distribution of the patients"
   ]
  },
  {
   "cell_type": "code",
   "execution_count": null,
   "metadata": {},
   "outputs": [],
   "source": [
    "df.hist(\"age\", bins=30)\n",
    "plt.show()"
   ]
  },
  {
   "cell_type": "markdown",
   "metadata": {},
   "source": [
    "Let's now look at the average, median, and standard deviation age of the patients."
   ]
  },
  {
   "cell_type": "code",
   "execution_count": null,
   "metadata": {},
   "outputs": [],
   "source": [
    "df.agg({\"age\": [\"mean\", \"median\", \"std\", \"count\"]})"
   ]
  },
  {
   "cell_type": "markdown",
   "metadata": {},
   "source": [
    "**Answer#1**: 60.83 is the average age in which patients contract a heart disease. 60 is the median age. And the standard deviation is 11.89."
   ]
  },
  {
   "cell_type": "markdown",
   "metadata": {},
   "source": [
    "**Question#2**: Is Age and Sex an indicator for Death Event?"
   ]
  },
  {
   "cell_type": "markdown",
   "metadata": {},
   "source": [
    "Let's first look at the death event and the age of the patients."
   ]
  },
  {
   "cell_type": "code",
   "execution_count": null,
   "metadata": {},
   "outputs": [],
   "source": [
    "x = df.loc[df['DEATH_EVENT'] == 0, ['age']]\n",
    "y = df.loc[df['DEATH_EVENT'] == 1, ['age']]\n",
    "\n",
    "fig, ax = plt.subplots()\n",
    "x.hist(alpha=1, ax=ax, label=\"Survived\")\n",
    "y.hist(alpha=0.5, ax=ax, label=\"Died\")\n",
    "plt.xlabel('Age')\n",
    "plt.ylabel('Count')\n",
    "plt.title('Histogram of the Survival State and age of the patients')\n",
    "plt.legend(loc='upper right')\n",
    "plt.show()"
   ]
  },
  {
   "cell_type": "markdown",
   "metadata": {},
   "source": [
    "Let's now look at the death event and the sex of the patient."
   ]
  },
  {
   "cell_type": "code",
   "execution_count": null,
   "metadata": {},
   "outputs": [],
   "source": [
    "df.groupby(['DEATH_EVENT', 'sex']).size().unstack().plot(kind='bar', stacked='True')\n",
    "plt.xlabel('Deceased')\n",
    "plt.ylabel('Count')\n",
    "plt.title('Bar plot of survival status and sex of the patients')\n",
    "plt.legend([\"Male\", \"Female\"])\n",
    "plt.show()"
   ]
  },
  {
   "cell_type": "markdown",
   "metadata": {},
   "source": [
    "**Answer#2**: There is not enough information to conclude that sex is an indicator of death events of patients who suffered from heart failure"
   ]
  },
  {
   "cell_type": "markdown",
   "metadata": {},
   "source": [
    "**Question#3**:What is the distribution of patients in the following clinical features of the dataset?"
   ]
  },
  {
   "cell_type": "markdown",
   "metadata": {},
   "source": [
    "Here we are going to look at the percentage of patients who have anemia, diabetes, hypertension, and those who smoke."
   ]
  },
  {
   "cell_type": "markdown",
   "metadata": {},
   "source": [
    "#### Anaemia Percentage"
   ]
  },
  {
   "cell_type": "code",
   "execution_count": null,
   "metadata": {},
   "outputs": [],
   "source": [
    "val = df['anaemia'].value_counts()\n",
    "labels = ['Not Anemic', 'Anemic']\n",
    "explode = (0.1, 0)\n",
    "slices = plt.pie(val, labels = val, explode=explode, autopct='%1.1f%%', shadow=True, startangle=90)\n",
    "plt.title('Anemic percentage')\n",
    "plt.legend(labels)\n",
    "plt.show()"
   ]
  },
  {
   "cell_type": "markdown",
   "metadata": {},
   "source": [
    "#### Diabetic Percentage"
   ]
  },
  {
   "cell_type": "code",
   "execution_count": null,
   "metadata": {},
   "outputs": [],
   "source": [
    "val = df['diabetes'].value_counts()\n",
    "labels = ['Not Diabetic', 'Diabetic']\n",
    "explode = (0.1, 0)\n",
    "slices = plt.pie(val, labels = val, explode=explode, autopct='%1.1f%%', shadow=True, startangle=90)\n",
    "plt.title('Diabetic percentage')\n",
    "plt.legend(labels)\n",
    "plt.show()"
   ]
  },
  {
   "cell_type": "markdown",
   "metadata": {},
   "source": [
    "Hypertension Percentage"
   ]
  },
  {
   "cell_type": "code",
   "execution_count": null,
   "metadata": {},
   "outputs": [],
   "source": [
    "val = df['high_blood_pressure'].value_counts()\n",
    "labels = ['Does Not Have Hypertension', 'Have Hypertension']\n",
    "explode = (0.1, 0)\n",
    "slices = plt.pie(val, labels = val, explode=explode, autopct='%1.1f%%', shadow=True, startangle=90)\n",
    "plt.title('Hypertension percentage')\n",
    "plt.legend(labels)\n",
    "plt.show()"
   ]
  },
  {
   "cell_type": "markdown",
   "metadata": {},
   "source": [
    "#### Smoking percentage"
   ]
  },
  {
   "cell_type": "code",
   "execution_count": null,
   "metadata": {},
   "outputs": [],
   "source": [
    "val = df['smoking'].value_counts()\n",
    "labels = ['Not Smoking', 'Smoking']\n",
    "explode = (0.1, 0)\n",
    "slices = plt.pie(val, labels = val, explode=explode, autopct='%1.1f%%', shadow=True, startangle=90)\n",
    "plt.title('Smoking percentage')\n",
    "plt.legend(labels)\n",
    "plt.show()"
   ]
  },
  {
   "cell_type": "markdown",
   "metadata": {},
   "source": [
    "**Question#4**: What is the correlation of each variable to the death event? \n",
    "\n",
    "(Note: Baka pwede na isama sa question 2)\n",
    "- Creatinine Phosphokinase\n",
    "- Ejection fraction\n",
    "- Level of serum creatinine\n",
    "- Level of serum sodium\n",
    "- Platelets in the blood"
   ]
  },
  {
   "cell_type": "markdown",
   "metadata": {},
   "source": [
    "#### Correlation of the CPK enzyme in the blood and the survival state of the patient"
   ]
  },
  {
   "cell_type": "code",
   "execution_count": null,
   "metadata": {},
   "outputs": [],
   "source": [
    "x = df.loc[df['DEATH_EVENT'] == 0, ['creatinine_phosphokinase']]\n",
    "y = df.loc[df['DEATH_EVENT'] == 1, ['creatinine_phosphokinase']]\n",
    "\n",
    "fig, ax = plt.subplots()\n",
    "x.hist(alpha=1, ax=ax, label=\"Survived\")\n",
    "y.hist(alpha=0.5, ax=ax, label=\"Died\")\n",
    "plt.xlabel('Level of the CPK enzyme in the blood')\n",
    "plt.ylabel('Count')\n",
    "plt.title('Histogram of the Survival State and the level of the CPK enzyme in the blood of the patients')\n",
    "plt.legend(loc='upper right')\n",
    "plt.show()"
   ]
  },
  {
   "cell_type": "markdown",
   "metadata": {},
   "source": [
    "Lower level of the CPK enzyme in the blood contribute to the patients' survival."
   ]
  },
  {
   "cell_type": "markdown",
   "metadata": {},
   "source": [
    "#### Correlation of the percentage of blood leaving the heart at each contraction and the survival state of the patient"
   ]
  },
  {
   "cell_type": "code",
   "execution_count": null,
   "metadata": {},
   "outputs": [],
   "source": [
    "x = df.loc[df['DEATH_EVENT'] == 0, ['ejection_fraction']]\n",
    "y = df.loc[df['DEATH_EVENT'] == 1, ['ejection_fraction']]\n",
    "\n",
    "fig, ax = plt.subplots()\n",
    "x.hist(alpha=1, ax=ax, label=\"Survived\")\n",
    "y.hist(alpha=0.5, ax=ax, label=\"Died\")\n",
    "plt.xlabel('Percentage of blood leaving the heart at each contraction')\n",
    "plt.ylabel('Count')\n",
    "plt.title('Histogram of the Survival State and the Percentage of blood leaving the heart at each contraction of the patients')\n",
    "plt.legend(loc='upper right')\n",
    "plt.show()"
   ]
  },
  {
   "cell_type": "markdown",
   "metadata": {},
   "source": [
    "Higher ejection fraction contribute to the patients' survival."
   ]
  },
  {
   "cell_type": "markdown",
   "metadata": {},
   "source": [
    "#### Correlation of the platelets in the blood and the survival state of the patient"
   ]
  },
  {
   "cell_type": "code",
   "execution_count": null,
   "metadata": {},
   "outputs": [],
   "source": [
    "x = df.loc[df['DEATH_EVENT'] == 0, ['platelets']]\n",
    "y = df.loc[df['DEATH_EVENT'] == 1, ['platelets']]\n",
    "\n",
    "fig, ax = plt.subplots()\n",
    "x.hist(alpha=1, ax=ax, label=\"Survived\")\n",
    "y.hist(alpha=0.5, ax=ax, label=\"Died\")\n",
    "plt.xlabel('Platelets in the blood')\n",
    "plt.ylabel('Count')\n",
    "plt.title('Histogram of the Survival State and the Platelets in the blood of the patients')\n",
    "plt.legend(loc='upper right')\n",
    "plt.show()"
   ]
  },
  {
   "cell_type": "markdown",
   "metadata": {},
   "source": [
    "The amount of platelets in the blood does not really contribute to the patients' survival."
   ]
  },
  {
   "cell_type": "markdown",
   "metadata": {},
   "source": [
    "#### Correlation of the level of serum creatinine and the survival state of the patient"
   ]
  },
  {
   "cell_type": "code",
   "execution_count": null,
   "metadata": {},
   "outputs": [],
   "source": [
    "x = df.loc[df['DEATH_EVENT'] == 0, ['serum_creatinine']]\n",
    "y = df.loc[df['DEATH_EVENT'] == 1, ['serum_creatinine']]\n",
    "\n",
    "fig, ax = plt.subplots()\n",
    "x.hist(alpha=1, ax=ax, label=\"Survived\")\n",
    "y.hist(alpha=0.5, ax=ax, label=\"Died\")\n",
    "plt.xlabel('Level of serum creatinine')\n",
    "plt.ylabel('Count')\n",
    "plt.title('Histogram of the Survival State and the level of serum creatinine of the patients')\n",
    "plt.legend(loc='upper right')\n",
    "plt.show()"
   ]
  },
  {
   "cell_type": "markdown",
   "metadata": {},
   "source": [
    "Lower levels of serum creatinine contribute to the patients' survival."
   ]
  },
  {
   "cell_type": "markdown",
   "metadata": {},
   "source": [
    "#### Correlation of the level of serum sodium in the blood and the survival state of the patient"
   ]
  },
  {
   "cell_type": "code",
   "execution_count": null,
   "metadata": {},
   "outputs": [],
   "source": [
    "x = df.loc[df['DEATH_EVENT'] == 0, ['serum_sodium']]\n",
    "y = df.loc[df['DEATH_EVENT'] == 1, ['serum_sodium']]\n",
    "\n",
    "fig, ax = plt.subplots()\n",
    "x.hist(alpha=1, ax=ax, label=\"Survived\")\n",
    "y.hist(alpha=0.5, ax=ax, label=\"Died\")\n",
    "plt.xlabel('Level of serum sodium in the blood')\n",
    "plt.ylabel('Count')\n",
    "plt.title('Histogram of the Survival State and the Level of serum sodium in the blood of the patients')\n",
    "plt.legend(loc='upper right')\n",
    "plt.show()"
   ]
  },
  {
   "cell_type": "markdown",
   "metadata": {},
   "source": [
    "Here we can see that higher levels of serum sodium in the blood contribute to the patients' survival."
   ]
  },
  {
   "cell_type": "markdown",
   "metadata": {},
   "source": [
    "#### Heatmap of all the variables in the dataset"
   ]
  },
  {
   "cell_type": "code",
   "execution_count": null,
   "metadata": {},
   "outputs": [],
   "source": [
    "plt.figure(figsize=(10,10))\n",
    "sns.heatmap(df.corr(), vmin=-1, cmap='coolwarm', annot=True);"
   ]
  },
  {
   "cell_type": "markdown",
   "metadata": {},
   "source": [
    "Using the heatmap we are able to see the correlation between each of the variables in the dataset, based on the color bar at the side of the graph, we are able to see that the closer the color is to the top of the gradient, the variables are more positively correlated, while on the other side of the gradient, closer to blue, the more negatively correlated the variables are.\n",
    "\n",
    "We can observe here in the heatmap that in the death event row of the map, that the age is positively correlated with the death event, meaning higher the age of the patient the more likely they won't survive, which makes sense. Other variables that are noticable on the heatmap that we could gather insights from are the ejection fraction which is negatively correlated amd the serum creatinine level which is positively correlated with the death event. This falls in line with the original purpose of the dataset which is predicting the heart failure of the patient based on these two factors."
   ]
  },
  {
   "cell_type": "markdown",
   "metadata": {},
   "source": [
    "## Research Questions"
   ]
  },
  {
   "cell_type": "markdown",
   "metadata": {},
   "source": [
    "**Research Question #1** :Given the level of age, time, serum sodium, serum creatinine, and ejection fraction, what is the chance of heart failure?\n"
   ]
  },
  {
   "cell_type": "markdown",
   "metadata": {},
   "source": [
    "This research question is significant because it is the main purpose of the dataset. Being able to find out the chance of heart failure based on the correlated variables such as age, time, serum sodium, serum creatinine, and ejection fraction, will significantly help out the medical field."
   ]
  },
  {
   "cell_type": "markdown",
   "metadata": {},
   "source": [
    "Due to the correlation analysis from the previous parts, the proponents have chosen the following variables as the prediction variables for heart failure: age, time, serum sodium, serum creatinine, and ejection fraction."
   ]
  },
  {
   "cell_type": "code",
   "execution_count": null,
   "metadata": {},
   "outputs": [],
   "source": [
    "variables = df[['age', 'ejection_fraction', 'serum_creatinine', 'serum_sodium', 'time']]\n",
    "x = variables\n",
    "y = df['DEATH_EVENT']"
   ]
  },
  {
   "cell_type": "markdown",
   "metadata": {},
   "source": [
    "###### Train Test Split\n",
    "\n",
    "The Train Test Split is done to effectively separate the training data from the actual evaluation data that will be used for verifying the effectivity of the model performance"
   ]
  },
  {
   "cell_type": "code",
   "execution_count": null,
   "metadata": {},
   "outputs": [],
   "source": [
    "from sklearn.model_selection import train_test_split\n",
    "x_train,x_test,y_train,y_test=train_test_split(x,y,random_state=1,test_size=0.2)"
   ]
  },
  {
   "cell_type": "markdown",
   "metadata": {},
   "source": [
    "###### Support Vector Classification\n",
    "Support Vector Classification (SVC) was used as a marchine learning algorithm because of its efficiency when the dataset is relatively small. SVC draws a line between the dataset to separate the classification between two states which is indicating whether given the variables of age, ejection_fraction, serim_creatinine, serum_sodium, and time, that heart failure might occur."
   ]
  },
  {
   "cell_type": "code",
   "execution_count": null,
   "metadata": {},
   "outputs": [],
   "source": [
    "from sklearn.svm import SVC\n",
    "svc = SVC(random_state=0, kernel = 'rbf')\n",
    "svc.fit(x_train, y_train)"
   ]
  },
  {
   "cell_type": "code",
   "execution_count": null,
   "metadata": {},
   "outputs": [],
   "source": [
    "y_pred = svc.predict(x_test)\n",
    "print(y_pred)"
   ]
  },
  {
   "cell_type": "code",
   "execution_count": null,
   "metadata": {},
   "outputs": [],
   "source": [
    "con_matrix = confusion_matrix(y_test, y_pred)\n",
    "svm_accuracy = accuracy_score(y_test, y_pred)\n",
    "print(svm_accuracy)"
   ]
  },
  {
   "cell_type": "markdown",
   "metadata": {},
   "source": [
    "This shows a 90% accuracy on predicting whether heart failure will occur to the data observation given the varialbes of age, ejection_fraction, serim_creatinine, serum_sodium, and time. The result is significant because it can give a warning to people whether they are in risk of a heart failure or not."
   ]
  },
  {
   "cell_type": "markdown",
   "metadata": {},
   "source": [
    "**Research Question #2** : Find the confidence interval of the level of serum creatinine and ejection fraction for those who are alive and deceased"
   ]
  },
  {
   "cell_type": "markdown",
   "metadata": {},
   "source": [
    "According to the authors of the dataset, heart failure can be predicted from the level of serum creatinine and ejection fraction, therefore the proponents decided to see what the level of serum creatinine and ejection fraction would result into heart failure by finding out the confidence interval for those who are alive and those who died of heart failure."
   ]
  },
  {
   "cell_type": "markdown",
   "metadata": {},
   "source": [
    "##### Confidence Interval of Serum Creatinine for those who are Alive"
   ]
  },
  {
   "cell_type": "code",
   "execution_count": null,
   "metadata": {},
   "outputs": [],
   "source": [
    "alive_df = df.loc[df['DEATH_EVENT'] == 0]\n",
    "dead_df = df.loc[df['DEATH_EVENT'] == 1]\n",
    "\n",
    "z_star_95 = norm.ppf(0.975)\n",
    "n = 40\n",
    "alive_df = alive_df.sample(n)\n",
    "alive_agg_serum = alive_df.agg({\"serum_creatinine\": [\"mean\", \"median\", \"std\"]})\n",
    "alive_agg_serum"
   ]
  },
  {
   "cell_type": "code",
   "execution_count": null,
   "metadata": {},
   "outputs": [],
   "source": [
    "sample_mean_alive_serum = alive_agg_serum.loc[\"mean\"][0]\n",
    "sample_median_alive_serum = alive_agg_serum.loc[\"median\"][0]\n",
    "sample_std_alive_serum = alive_agg_serum.loc[\"std\"][0]\n",
    "moe_alive_serum = z_star_95 * (sample_std_alive_serum / np.sqrt(n))\n",
    "print(sample_mean_alive_serum - moe_alive_serum, sample_mean_alive_serum + moe_alive_serum)"
   ]
  },
  {
   "cell_type": "markdown",
   "metadata": {},
   "source": [
    "The average level of serum creatinine in the blood for those survived from heart failure with a 95% confidence is 0.9979 to 1.4400. "
   ]
  },
  {
   "cell_type": "markdown",
   "metadata": {},
   "source": [
    "##### Confidence Interval of Serum Creatinine for those who are Deceased"
   ]
  },
  {
   "cell_type": "code",
   "execution_count": null,
   "metadata": {},
   "outputs": [],
   "source": [
    "dead_df = dead_df.sample(n)\n",
    "dead_agg_serum = dead_df.agg({\"serum_creatinine\": [\"mean\", \"median\", \"std\"]})\n",
    "dead_agg_serum"
   ]
  },
  {
   "cell_type": "code",
   "execution_count": null,
   "metadata": {},
   "outputs": [],
   "source": [
    "sample_mean_dead_serum = dead_agg_serum.loc[\"mean\"][0]\n",
    "sample_median_dead_serum = dead_agg_serum.loc[\"median\"][0]\n",
    "sample_std_dead_serum = dead_agg_serum.loc[\"std\"][0]\n",
    "moe_dead_serum = z_star_95 * (sample_std_dead_serum / np.sqrt(n))\n",
    "print(sample_mean_dead_serum - moe_dead_serum, sample_mean_dead_serum + moe_dead_serum)"
   ]
  },
  {
   "cell_type": "markdown",
   "metadata": {},
   "source": [
    "The average level of serum creatinine in the blood for those who passed away from heart failure with a 95% confidence is 1.3648 to 1.8761. "
   ]
  },
  {
   "cell_type": "markdown",
   "metadata": {},
   "source": [
    "##### Confidence Interval of Ejection Fraction for those who are Alive"
   ]
  },
  {
   "cell_type": "code",
   "execution_count": null,
   "metadata": {},
   "outputs": [],
   "source": [
    "alive_df = alive_df.sample(n)\n",
    "alive_agg_eject = alive_df.agg({\"ejection_fraction\": [\"mean\", \"median\", \"std\"]})\n",
    "alive_agg_eject"
   ]
  },
  {
   "cell_type": "code",
   "execution_count": null,
   "metadata": {},
   "outputs": [],
   "source": [
    "sample_mean_alive_eject = alive_agg_eject.loc[\"mean\"][0]\n",
    "sample_median_alive_eject = alive_agg_eject.loc[\"median\"][0]\n",
    "sample_std_alive_eject = alive_agg_eject.loc[\"std\"][0]\n",
    "moe_alive_eject = z_star_95 * (sample_std_alive_eject / np.sqrt(n))\n",
    "print(sample_mean_alive_eject - moe_alive_eject, sample_mean_alive_eject + moe_alive_eject)"
   ]
  },
  {
   "cell_type": "markdown",
   "metadata": {},
   "source": [
    "The average percentage of blood leaving the heart at each contraction or the ejection fraction for those survive from heart failure with a 95% confidence is 37.2829 to 44.9670. "
   ]
  },
  {
   "cell_type": "markdown",
   "metadata": {},
   "source": [
    "##### Confidence Interval of Ejection Fraction for those who are Deceased"
   ]
  },
  {
   "cell_type": "code",
   "execution_count": null,
   "metadata": {},
   "outputs": [],
   "source": [
    "dead_df = dead_df.sample(n)\n",
    "dead_agg_eject = dead_df.agg({\"ejection_fraction\": [\"mean\", \"median\", \"std\"]})\n",
    "dead_agg_eject"
   ]
  },
  {
   "cell_type": "code",
   "execution_count": null,
   "metadata": {},
   "outputs": [],
   "source": [
    "sample_mean_dead_eject = dead_agg_eject.loc[\"mean\"][0]\n",
    "sample_median_dead_eject = dead_agg_eject.loc[\"median\"][0]\n",
    "sample_std_dead_eject = dead_agg_eject.loc[\"std\"][0]\n",
    "moe_dead_eject = z_star_95 * (sample_std_dead_eject / np.sqrt(n))\n",
    "moe_dead_eject\n",
    "print(sample_mean_dead_eject - moe_dead_eject, sample_mean_dead_eject + moe_dead_eject)"
   ]
  },
  {
   "cell_type": "markdown",
   "metadata": {},
   "source": [
    "The average percentage of blood leaving the heart at each contraction or the ejection fraction for those who passed away from heart failure with a 95% confidence is 29.0104 to 35.5895. "
   ]
  },
  {
   "cell_type": "markdown",
   "metadata": {},
   "source": [
    "## Insights and Conclusion"
   ]
  },
  {
   "cell_type": "markdown",
   "metadata": {},
   "source": [
    "The proponents of the notebook has found that features: age, time(follow up period), serum sodium, serum creatinine, and ejection fraction are the features that has the greatest effect with the occurence of heart failure. With this findings, the proponents have used these features and created a model that can predict whether there is a chance of heart failure to occur with a 90% accuracy result. This means that if these features are in a certain critical level, or value, heart failure may incur. \n",
    "\n",
    "The proponents has also found that serum creatinine and ejection fraction are 2 features that are critical for human survival. The proponents found that patients who did not die from heart failure have serum creatinine levels from 0.9979 to 1.4400 mg/dL and ejection fraction of 37.2829 to 44.9670% with 95% confidence level. Furthermore, for patients who have passed away due to heart failure have serum creatinine levels of 1.3750 to 2.5115 mg/dL, and ejection fraction  of 29.0104 to 35.5895% with 95% confidence interval. Compared to the normal level of serum creatine of 0.84 to 1.21 mg/dL the levels of both the patients who survived and passed away are significantly higher than the normal level. For the normal ejection fraction, the heart should pump 50-70% of blood out of the heart but based on the results, both the hearts of the people who survied and passed away pumped remarkably lower percentage of blood out of their heart. This means that their blood is not circulating enough oxygenated blood throughout the body affecting their other organs such as the kidneys which in based on their serum creatinine levels are not functioning well. \n",
    "\n",
    "_______ result and future works\n",
    "\n",
    "\n",
    "Data models like these can be beneficial for the field of medicine where healthcare practitioners to see different factors in which the patients incur heart failure. It may also open doors for further research and cure development for the future.\n",
    "\n",
    "These information are valuable not only for the field of medicine but also for the general public for reliable and accessible information. It is important for the general public to be more informed with these findings for them to ensure their personal safety and for them to mantain their general health."
   ]
  },
  {
   "cell_type": "markdown",
   "metadata": {},
   "source": [
    "## References "
   ]
  },
  {
   "cell_type": "markdown",
   "metadata": {},
   "source": [
    "World Health Organization.(n.d.). World heart day. Retrieved from https://www.who.int/cardiovascular_diseases/world-heart-day/en/ . Retrieved September 18, 2020"
   ]
  },
  {
   "cell_type": "markdown",
   "metadata": {},
   "source": [
    "Heart Foundation. (n.d.). What is Heart Failure?. Retrieved from https://www.heartfoundation.org.au/conditions/heart-failure. Retrieved September 18, 2020"
   ]
  },
  {
   "cell_type": "code",
   "execution_count": null,
   "metadata": {},
   "outputs": [],
   "source": []
  }
 ],
 "metadata": {
  "kernelspec": {
   "display_name": "Python 3",
   "language": "python",
   "name": "python3"
  },
  "language_info": {
   "codemirror_mode": {
    "name": "ipython",
    "version": 3
   },
   "file_extension": ".py",
   "mimetype": "text/x-python",
   "name": "python",
   "nbconvert_exporter": "python",
   "pygments_lexer": "ipython3",
   "version": "3.7.6"
  }
 },
 "nbformat": 4,
 "nbformat_minor": 4
}
