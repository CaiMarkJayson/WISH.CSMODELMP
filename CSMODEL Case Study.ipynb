{
 "cells": [
  {
   "cell_type": "markdown",
   "metadata": {},
   "source": [
    "# Product Sales (Research title here)\n"
   ]
  },
  {
   "cell_type": "markdown",
   "metadata": {},
   "source": [
    "This is in partial fulfillment of the course Statistical Modeling and simulation (CSMODEL). "
   ]
  },
  {
   "cell_type": "markdown",
   "metadata": {},
   "source": [
    "Submitted by: \n",
    "- ANG, Charlene\n",
    "- CAI, Mark Jayson\n",
    "- SANTOS, Carlo Luis\n",
    "S15\n",
    "\n",
    "Submitted to:\n",
    "\n",
    "Mr. Thomas James Tiam-Lee \n",
    "\n",
    "September 23, 2020"
   ]
  },
  {
   "cell_type": "markdown",
   "metadata": {},
   "source": [
    "# Sales of Summer Clothes in E-commerce Wish"
   ]
  },
  {
   "cell_type": "markdown",
   "metadata": {},
   "source": [
    "Source: Jeffrey Mvutu Mabilama, https://www.kaggle.com/jmmvutu/summer-products-and-sales-in-ecommerce-wish "
   ]
  },
  {
   "cell_type": "markdown",
   "metadata": {},
   "source": [
    "## Introduction"
   ]
  },
  {
   "cell_type": "markdown",
   "metadata": {},
   "source": [
    "This dataset contains information about available products in eCommerce site Wish. In the data sets are the products' rating and sales information. \n",
    "\n",
    "In this notebook, the researchers will be <>\n",
    "\n",
    "This notebook aims to explore the (research topic)\n",
    "\n",
    "This may help in _____"
   ]
  },
  {
   "cell_type": "markdown",
   "metadata": {},
   "source": [
    "### Data Collection"
   ]
  },
  {
   "cell_type": "markdown",
   "metadata": {},
   "source": [
    "The dataset contains a compiled result of products when the keyword \"Summer\" is searched in e-commerce website, Wish. An observation is a summer product sold on the platform described using 43 different variables, they are as follows:\"\n",
    "\n",
    "- **`title`**: Title for localized for european countries. May be the same as title_orig if the seller did not offer a translation.\n",
    "- **`title_orig`**: Original english title of the product.\n",
    "- **`price`**: Price you would pay to get the product.\n",
    "- **`retail_price`**: Reference price for similar articles on the market, or in other stores/places.\n",
    "- **`currency_buyer`**: Currency of the prices.\n",
    "- **`units_sold`**: Number of units sold. Lower bound approximation by steps.\n",
    "- **`uses_ad_boosts`**: Whether the seller paid to boost his product within the platform (highlighting, better placement or whatever).\n",
    "- **`rating`**: Mean product rating.\n",
    "- **`rating_count`**: Total number of ratings of the product.\n",
    "- **`rating_five_count`**: Number of 5-star ratings.\n",
    "- **`rating_four_count`**: Number of 4-star ratings.\n",
    "- **`rating_three_count`**: Number of 3-star ratings.\n",
    "- **`rating_two_count`**: Number of 2-star ratings.\n",
    "- **`rating_one_count`**: Number of 1-star ratings.\n",
    "- **`badges_count`**: Number of badges the product or the seller have.\n",
    "- **`badge_local_product`**: A badge that denotes the product is a local product. Conditions may vary (being produced locally, or something else). Some people may prefer buying local products rather than. 1 means Yes, has the badge.\n",
    "- **`badge_product_quality`**: Badge awarded when many buyers consistently gave good evaluations 1 means Yes, has the badge.\n",
    "- **`badge_fast_shipping`**: Badge awarded when this product's order is consistently shipped rapidly.\n",
    "- **`tags`**: Tags of the product set by the seller.\n",
    "- **`product_color`**: One of the available size variation for this product.\n",
    "- **`product_variation_inventory`**: Inventory the seller has. Max allowed quantity is 50.\n",
    "- **`shipping_option_name`**: The name of the shipping options the seller provides.\n",
    "- **`shipping_option_price`**: Shipping price.\n",
    "- **`shipping_is_express`**: Whether the shipping is express or not. 1 for True.\n",
    "- **`countries_shipped_to`**: Number of countries this product is shipped to. Sellers may choose to limit where they ship a product to.\n",
    "- **`inventory_total`**: Total inventory for all the product's variations (size/color variations for instance).\n",
    "- **`has_urgency_banner`**: Whether there was an urgency banner with an urgency.\n",
    "- **`urgency_text`**: A text banner that appear over some products in the search results.\n",
    "- **`origin_country`**: Where the product was originally developed.\n",
    "- **`merchant_title`**: Merchant's displayed name (show in the UI as the seller's shop name).\n",
    "- **`merchant_name`**: Merchant's canonical name. A name not shown publicly. Used by the website under the hood as a canonical name. Easier to process since all lowercase without white space.\n",
    "- **`merchant_info_subtitle`**: The subtitle text as shown on a seller's info section to the user. (raw, not preprocessed). The website shows this to the user to give an overview of the seller's stats to the user.\n",
    "- **`merchant_rating_count`**: Number of ratings of this seller.\n",
    "- **`merchant_rating`**: Merchant's rating.\n",
    "- **`merchant_id`**: Merchant unique id.\n",
    "- **`merchant_has_profile_picture`**: Convenience boolean that says whether there is a `merchant_profile_picture` url.\n",
    "- **`merchant_profile_picture`**: Custom profile picture of the seller (if the seller has one). Empty otherwise.\n",
    "- **`product_url`**: URL to the product page. You may need to login to access it.\n",
    "- **`product_picture`**: Picture of the product.\n",
    "- **`product_id`**: Product identifier. You can use this key to remove duplicate entries if you're not interested in studying them.\n",
    "- **`theme`**: the search term used in the search bar of the website to get these search results.\n",
    "- **`crawl_month`**: Meta: for info only."
   ]
  },
  {
   "cell_type": "markdown",
   "metadata": {},
   "source": [
    "# Exploratory Data Analysis"
   ]
  },
  {
   "cell_type": "code",
   "execution_count": null,
   "metadata": {},
   "outputs": [],
   "source": [
    "import numpy as np\n",
    "import pandas as pd\n",
    "import matplotlib.pyplot as plt\n",
    "import re \n",
    "from functools import reduce"
   ]
  },
  {
   "cell_type": "markdown",
   "metadata": {},
   "source": [
    "### Loading the Dataset \n"
   ]
  },
  {
   "cell_type": "code",
   "execution_count": null,
   "metadata": {},
   "outputs": [],
   "source": [
    "df = pd.read_csv(\"summer-products-with-rating-and-performance_2020-08.csv\")\n",
    "df.head()"
   ]
  },
  {
   "cell_type": "markdown",
   "metadata": {},
   "source": [
    "### Cleaning the Data"
   ]
  },
  {
   "cell_type": "markdown",
   "metadata": {},
   "source": [
    "#### Dataset Information"
   ]
  },
  {
   "cell_type": "code",
   "execution_count": null,
   "metadata": {},
   "outputs": [],
   "source": [
    "df.info()"
   ]
  },
  {
   "cell_type": "markdown",
   "metadata": {},
   "source": [
    "#### Removing Duplicates"
   ]
  },
  {
   "cell_type": "markdown",
   "metadata": {},
   "source": [
    "Since the dataset was taken from an online source, we must know if there are duplicated information and drop the duplicates if present."
   ]
  },
  {
   "cell_type": "code",
   "execution_count": null,
   "metadata": {},
   "outputs": [],
   "source": [
    "df.duplicated().sum()"
   ]
  },
  {
   "cell_type": "code",
   "execution_count": null,
   "metadata": {},
   "outputs": [],
   "source": [
    "old_df = df.copy() #copy of df before dropping\n",
    "df.drop_duplicates(inplace=True)\n",
    "new_df = df.copy() #copy of df after dropping"
   ]
  },
  {
   "cell_type": "markdown",
   "metadata": {},
   "source": [
    "#### Check Null Values"
   ]
  },
  {
   "cell_type": "code",
   "execution_count": null,
   "metadata": {},
   "outputs": [],
   "source": [
    "df.isna().sum().sort_values()"
   ]
  },
  {
   "cell_type": "markdown",
   "metadata": {},
   "source": [
    "##### Profile Picture"
   ]
  },
  {
   "cell_type": "markdown",
   "metadata": {},
   "source": [
    "Looking at the dataset, merchant_profile_picture is just a link to the picture of the merchant profile picture which no data can be yielded unless one would like to analyze the pixels of the image, however, for this case study, the proponents chose to drop the column along with the boolean column of merchant_has_profile_picture."
   ]
  },
  {
   "cell_type": "code",
   "execution_count": null,
   "metadata": {},
   "outputs": [],
   "source": [
    "df = df.drop([\"merchant_profile_picture\", \"merchant_has_profile_picture\"], axis = 1)"
   ]
  },
  {
   "cell_type": "markdown",
   "metadata": {},
   "source": [
    "##### Urgency Banner"
   ]
  },
  {
   "cell_type": "markdown",
   "metadata": {},
   "source": [
    "The column has_urgency_banner contain two unique values which is either 1 or null. The proponents will turn null values into 0 to indicate its lack of an urgency banner to better represent the data."
   ]
  },
  {
   "cell_type": "code",
   "execution_count": null,
   "metadata": {},
   "outputs": [],
   "source": [
    "df[\"has_urgency_banner\"] = df[\"has_urgency_banner\"].fillna(0)"
   ]
  },
  {
   "cell_type": "markdown",
   "metadata": {},
   "source": [
    "##### Product Ratings"
   ]
  },
  {
   "cell_type": "markdown",
   "metadata": {},
   "source": [
    "Checking the product ratings columns, the proponents saw that some observations have missing value for the ratings and that rating for these observations were indicated as 5 even though the indicated rating_count is 0. For these products, the missing values will be indicated as 0 for the rating number counts and actual rating indicating that there has been no reviews for the particular product."
   ]
  },
  {
   "cell_type": "code",
   "execution_count": null,
   "metadata": {},
   "outputs": [],
   "source": [
    "rating_cols = [\"rating_one_count\", \"rating_two_count\", \"rating_three_count\", \"rating_four_count\", \"rating_five_count\", \"rating\", \"rating_count\"]\n",
    "\n",
    "no_votes = df.loc[df[rating_cols].isna().any(axis=1), rating_cols]\n",
    "df.loc[no_votes.index, rating_cols] = 0"
   ]
  },
  {
   "cell_type": "markdown",
   "metadata": {},
   "source": [
    "##### Origin Country"
   ]
  },
  {
   "cell_type": "code",
   "execution_count": null,
   "metadata": {},
   "outputs": [],
   "source": [
    "df[\"origin_country\"].value_counts()"
   ]
  },
  {
   "cell_type": "markdown",
   "metadata": {},
   "source": [
    "The column largely contains the value CN which will not give us much data to be extracted from since there is not a lot of variance in it. The proponents will be dropping the column since there is no significant information to be extracted from it."
   ]
  },
  {
   "cell_type": "code",
   "execution_count": null,
   "metadata": {},
   "outputs": [],
   "source": [
    "df = df.drop(\"origin_country\", axis=1)"
   ]
  },
  {
   "cell_type": "markdown",
   "metadata": {},
   "source": [
    "##### Product Color"
   ]
  },
  {
   "cell_type": "markdown",
   "metadata": {},
   "source": [
    "The missing values for the product_color is hard to fill up with other values therefore, the proponents will just name the null values as the value \"null\" to make sure they are still categorizable."
   ]
  },
  {
   "cell_type": "code",
   "execution_count": null,
   "metadata": {},
   "outputs": [],
   "source": [
    "df[\"product_color\"] = df[\"product_color\"].fillna(\"null\")"
   ]
  },
  {
   "cell_type": "markdown",
   "metadata": {},
   "source": [
    "##### Product Sizes"
   ]
  },
  {
   "cell_type": "code",
   "execution_count": null,
   "metadata": {},
   "outputs": [],
   "source": [
    "df[\"product_variation_size_id\"].value_counts()"
   ]
  },
  {
   "cell_type": "markdown",
   "metadata": {},
   "source": [
    "The product variation sizes seem to come from different scaling or measurement therefore, the proponents will categorize them only by these standards: \"xs\", \"s\", \"m\", \"l\", and \"xl\". The null values will also be replaced with the value of \"m\" to make sure they are still part of the categorized products."
   ]
  },
  {
   "cell_type": "code",
   "execution_count": null,
   "metadata": {},
   "outputs": [],
   "source": [
    "def clean_sizes(s: str) -> str:\n",
    "    return re.findall(r\"M|X?[SsLl](?!\\w+)\", s)\n",
    "\n",
    "def convert_us_to_eu(s: str) -> str:\n",
    "    number = re.findall(\"\\d+\", s[0])[0]\n",
    "    \n",
    "    eu_to_letter = {\n",
    "        (0, 36): \"XS\",\n",
    "        (36, 40): \"S\",\n",
    "        (40, 44): \"M\",\n",
    "        (44, 48): \"L\",\n",
    "        (48, 52): \"XL\",\n",
    "        (52, 60): \"XXL\"\n",
    "    }\n",
    "    return [v for k, v in eu_to_letter.items() if k[0]<int(number)<k[1]][0]\n",
    "     \n",
    "original_sizes = df[\"product_variation_size_id\"].dropna().unique()\n",
    "changed_to_letter = [re.sub(r\"EU\\s*\\d+\", convert_us_to_eu, s) for s in original_sizes]\n",
    "filtered_sizes = [clean_sizes(s) for s in changed_to_letter]\n",
    "original_sizes = df[\"product_variation_size_id\"].dropna()\n",
    "changed_to_letter = [re.sub(r\"EU\\s*\\d+\", convert_us_to_eu, s) for s in original_sizes]\n",
    "filtered_sizes = [clean_sizes(s) for s in changed_to_letter]\n",
    "df.loc[original_sizes.index, \"product_size\"] = [c[0].lower() if c != [] else np.nan for c in filtered_sizes ]\n",
    "df[\"product_size\"].fillna(\"m\", inplace=True)\n",
    "df[\"product_size\"].value_counts()"
   ]
  },
  {
   "cell_type": "markdown",
   "metadata": {},
   "source": [
    "### Exploratory research questions"
   ]
  },
  {
   "cell_type": "markdown",
   "metadata": {},
   "source": [
    "**Question**: What is the percentage of products that used ad booster "
   ]
  },
  {
   "cell_type": "code",
   "execution_count": null,
   "metadata": {},
   "outputs": [],
   "source": [
    "boosted = len(df[df[\"uses_ad_boosts\"]==0])\n",
    "boosted / len(df) * 100"
   ]
  },
  {
   "cell_type": "markdown",
   "metadata": {},
   "source": [
    "**Question**: "
   ]
  },
  {
   "cell_type": "markdown",
   "metadata": {},
   "source": [
    "**Question** : What is the correlation of the ad booster to the sales of a product?"
   ]
  },
  {
   "cell_type": "code",
   "execution_count": null,
   "metadata": {},
   "outputs": [],
   "source": []
  },
  {
   "cell_type": "markdown",
   "metadata": {},
   "source": [
    "# Research Questions"
   ]
  },
  {
   "cell_type": "markdown",
   "metadata": {},
   "source": [
    "**Question**: Is there a correlation between the product rating and product sales?\n"
   ]
  },
  {
   "cell_type": "markdown",
   "metadata": {},
   "source": [
    "# Di ko mapagbaliktad help!!!"
   ]
  },
  {
   "cell_type": "code",
   "execution_count": null,
   "metadata": {},
   "outputs": [],
   "source": [
    "by_rating = df.groupby(\"rating\").agg({\"units_sold\": [\"mean\"]})\n",
    "by_rating.hist( bins = 40)\n",
    "plt.show\n"
   ]
  },
  {
   "cell_type": "markdown",
   "metadata": {},
   "source": [
    "# DI KO MASORT NA BY MEAN "
   ]
  },
  {
   "cell_type": "code",
   "execution_count": null,
   "metadata": {},
   "outputs": [],
   "source": []
  },
  {
   "cell_type": "code",
   "execution_count": null,
   "metadata": {
    "scrolled": true
   },
   "outputs": [],
   "source": [
    "df.groupby(\"rating\").agg({\"units_sold\": [\"mean\"]}).sort_values( \"rating\", ascending = True)"
   ]
  },
  {
   "cell_type": "markdown",
   "metadata": {},
   "source": [
    "**Question**: Visualize the relationship between the product rating and product sales"
   ]
  },
  {
   "cell_type": "markdown",
   "metadata": {},
   "source": [
    "**Question**: Find out which product tags are the most effective in regards to unit sold per product "
   ]
  },
  {
   "cell_type": "code",
   "execution_count": null,
   "metadata": {},
   "outputs": [],
   "source": [
    "df['tags'].value_counts"
   ]
  },
  {
   "cell_type": "markdown",
   "metadata": {},
   "source": [
    "**Question**: Is there a significant difference between ad-boosted products compared to not boosted in terms of product unit sold"
   ]
  },
  {
   "cell_type": "code",
   "execution_count": null,
   "metadata": {},
   "outputs": [],
   "source": [
    "df.groupby(\"uses_ad_boosts\").agg({\"units_sold\": [\"mean\"]})"
   ]
  },
  {
   "cell_type": "markdown",
   "metadata": {},
   "source": [
    "There is a significant difference between the ad boosted products compared to products that did not use ad_boost"
   ]
  },
  {
   "cell_type": "markdown",
   "metadata": {},
   "source": [
    "**Question**: Find the confidence interval of mean rating for popular products (in terms of unit sold)\n"
   ]
  },
  {
   "cell_type": "markdown",
   "metadata": {},
   "source": [
    "# Insights and Conclusion"
   ]
  },
  {
   "cell_type": "markdown",
   "metadata": {},
   "source": [
    "With the given data analysis results, we therefore conclude that there is __________________________________"
   ]
  }
 ],
 "metadata": {
  "kernelspec": {
   "display_name": "Python 3",
   "language": "python",
   "name": "python3"
  },
  "language_info": {
   "codemirror_mode": {
    "name": "ipython",
    "version": 3
   },
   "file_extension": ".py",
   "mimetype": "text/x-python",
   "name": "python",
   "nbconvert_exporter": "python",
   "pygments_lexer": "ipython3",
   "version": "3.7.6"
  }
 },
 "nbformat": 4,
 "nbformat_minor": 4
}
